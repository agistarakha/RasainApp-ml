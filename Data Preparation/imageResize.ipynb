{
  "nbformat": 4,
  "nbformat_minor": 0,
  "metadata": {
    "colab": {
      "name": "ImageProcs.ipynb",
      "provenance": [],
      "include_colab_link": true
    },
    "kernelspec": {
      "name": "python3",
      "display_name": "Python 3"
    },
    "language_info": {
      "name": "python"
    }
  },
  "cells": [
    {
      "cell_type": "markdown",
      "metadata": {
        "id": "view-in-github",
        "colab_type": "text"
      },
      "source": [
        "<a href=\"https://colab.research.google.com/github/agistarakha/indonesian-food-image-classification-/blob/develop/Data%20Preparation/imageResize.ipynb\" target=\"_parent\"><img src=\"https://colab.research.google.com/assets/colab-badge.svg\" alt=\"Open In Colab\"/></a>"
      ]
    },
    {
      "cell_type": "code",
      "source": [
        "from zipfile import ZipFile\n",
        "\n",
        "with ZipFile('/content/drive/MyDrive/indo_food_datasets/raw/makanan_part2.zip', 'r') as zipObj:\n",
        "   # Extract all the contents of zip file in different directory\n",
        "   zipObj.extractall('/content')\n",
        "   print('File is unzipped in temp folder')"
      ],
      "metadata": {
        "colab": {
          "base_uri": "https://localhost:8080/"
        },
        "id": "J5ZlD8SuoqeE",
        "outputId": "4339bf6a-d2d7-4367-af7a-06ae9181c0b0"
      },
      "execution_count": null,
      "outputs": [
        {
          "output_type": "stream",
          "name": "stdout",
          "text": [
            "File is unzipped in temp folder\n"
          ]
        }
      ]
    },
    {
      "cell_type": "code",
      "source": [
        "from google.colab import drive\n",
        "drive.mount('/content/drive')"
      ],
      "metadata": {
        "colab": {
          "base_uri": "https://localhost:8080/"
        },
        "id": "b6PCdllvwhl3",
        "outputId": "b57931f8-0e12-413a-a45f-0dcbd78f3376"
      },
      "execution_count": null,
      "outputs": [
        {
          "output_type": "stream",
          "name": "stdout",
          "text": [
            "Mounted at /content/drive\n"
          ]
        }
      ]
    },
    {
      "cell_type": "code",
      "source": [
        "import pathlib"
      ],
      "metadata": {
        "id": "px6BEjLTp_W1"
      },
      "execution_count": null,
      "outputs": []
    },
    {
      "cell_type": "code",
      "execution_count": null,
      "metadata": {
        "id": "RPb1DzMSpykG"
      },
      "outputs": [],
      "source": [
        "import tensorflow as tf\n"
      ]
    },
    {
      "cell_type": "code",
      "source": [
        "import numpy as np"
      ],
      "metadata": {
        "id": "H0VK7GvnjWyF"
      },
      "execution_count": null,
      "outputs": []
    },
    {
      "cell_type": "code",
      "source": [
        "from PIL import Image"
      ],
      "metadata": {
        "id": "fBfAhnt7ZZIn"
      },
      "execution_count": null,
      "outputs": []
    },
    {
      "cell_type": "code",
      "source": [
        "def resize_img_adv(img, name):\n",
        "  imgNumpy = np.array(img)\n",
        "\n",
        "  imgOutput = tf.image.resize_with_pad(\n",
        "      imgNumpy,\n",
        "      150,\n",
        "      150\n",
        "      )\n",
        "  imgFinal = tf.keras.preprocessing.image.array_to_img(imgOutput)\n",
        "  imgFinal.save('hasil/{}'.format(name))\n"
      ],
      "metadata": {
        "id": "QArVdyWDgjXK"
      },
      "execution_count": null,
      "outputs": []
    },
    {
      "cell_type": "code",
      "source": [
        "folder_name = 'tahupetis'\n",
        "data_dir = pathlib.Path(folder_name)\n",
        "nasi_gorengs = list(data_dir.glob('*.png'))\n",
        "# str(nasi_gorengs[0])\n",
        "for img_dir in nasi_gorengs:\n",
        "  name = str(img_dir)\n",
        "  print(name)\n",
        "  resize_img_adv(Image.open(str(img_dir)), name)"
      ],
      "metadata": {
        "id": "oGSZ9sLAqDXE"
      },
      "execution_count": null,
      "outputs": []
    },
    {
      "cell_type": "code",
      "source": [
        "ls hasil/sate /etc | wc -l"
      ],
      "metadata": {
        "colab": {
          "base_uri": "https://localhost:8080/"
        },
        "id": "L55d2Ris0c5j",
        "outputId": "3eb7e31f-1651-4d3f-ea06-2322b2991218"
      },
      "execution_count": null,
      "outputs": [
        {
          "output_type": "stream",
          "name": "stdout",
          "text": [
            "377\n"
          ]
        }
      ]
    },
    {
      "cell_type": "code",
      "source": [
        "rm -rf hasil/sate"
      ],
      "metadata": {
        "id": "lBW2JUk-2qAt"
      },
      "execution_count": null,
      "outputs": []
    },
    {
      "cell_type": "code",
      "source": [
        "!zip -r hasil.zip hasil"
      ],
      "metadata": {
        "id": "hMRhXL2Stsm7"
      },
      "execution_count": null,
      "outputs": []
    },
    {
      "cell_type": "code",
      "source": [
        "cp hasil.zip drive/MyDrive/indo_food_datasets/jadi/"
      ],
      "metadata": {
        "id": "szBCHPL96aff"
      },
      "execution_count": null,
      "outputs": []
    }
  ]
}