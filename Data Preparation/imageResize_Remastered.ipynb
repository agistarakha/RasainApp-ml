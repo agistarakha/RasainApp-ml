{
  "nbformat": 4,
  "nbformat_minor": 0,
  "metadata": {
    "colab": {
      "name": "ImageProcs.ipynb",
      "provenance": [],
      "include_colab_link": true
    },
    "kernelspec": {
      "name": "python3",
      "display_name": "Python 3"
    },
    "language_info": {
      "name": "python"
    }
  },
  "cells": [
    {
      "cell_type": "markdown",
      "metadata": {
        "id": "view-in-github",
        "colab_type": "text"
      },
      "source": [
        "<a href=\"https://colab.research.google.com/github/agistarakha/RasainApp-ml/blob/develop/Data%20Preparation/imageResize_Remastered.ipynb\" target=\"_parent\"><img src=\"https://colab.research.google.com/assets/colab-badge.svg\" alt=\"Open In Colab\"/></a>"
      ]
    },
    {
      "cell_type": "code",
      "source": [
        "from zipfile import ZipFile\n",
        "\n",
        "with ZipFile('/content/drive/MyDrive/indo_food_datasets/raw/kamera.zip', 'r') as zipObj:\n",
        "   # Extract all the contents of zip file in different directory\n",
        "   zipObj.extractall('/content/raw')\n",
        "   print('File is unzipped in temp folder')"
      ],
      "metadata": {
        "colab": {
          "base_uri": "https://localhost:8080/"
        },
        "id": "J5ZlD8SuoqeE",
        "outputId": "4628d617-528c-4bab-ddeb-f71685658d7e"
      },
      "execution_count": 84,
      "outputs": [
        {
          "output_type": "stream",
          "name": "stdout",
          "text": [
            "File is unzipped in temp folder\n"
          ]
        }
      ]
    },
    {
      "cell_type": "code",
      "source": [
        "from google.colab import drive\n",
        "drive.mount('/content/drive')"
      ],
      "metadata": {
        "colab": {
          "base_uri": "https://localhost:8080/"
        },
        "id": "b6PCdllvwhl3",
        "outputId": "c97b8c21-e3c1-4ced-8cff-23df97a29404"
      },
      "execution_count": 1,
      "outputs": [
        {
          "output_type": "stream",
          "name": "stdout",
          "text": [
            "Mounted at /content/drive\n"
          ]
        }
      ]
    },
    {
      "cell_type": "code",
      "source": [
        "cp -R /content/drive/MyDrive/indo_food_datasets/jadi/food-dataset-500 /content/"
      ],
      "metadata": {
        "id": "GWhqKwFspQMy"
      },
      "execution_count": 11,
      "outputs": []
    },
    {
      "cell_type": "code",
      "source": [
        "import pathlib\n",
        "import os"
      ],
      "metadata": {
        "id": "px6BEjLTp_W1"
      },
      "execution_count": 3,
      "outputs": []
    },
    {
      "cell_type": "code",
      "source": [
        "rm -rf ./tmp/"
      ],
      "metadata": {
        "id": "OaJJ_J3VtjT5"
      },
      "execution_count": null,
      "outputs": []
    },
    {
      "cell_type": "code",
      "execution_count": 4,
      "metadata": {
        "id": "RPb1DzMSpykG"
      },
      "outputs": [],
      "source": [
        "import tensorflow as tf\n"
      ]
    },
    {
      "cell_type": "code",
      "source": [
        "import numpy as np"
      ],
      "metadata": {
        "id": "H0VK7GvnjWyF"
      },
      "execution_count": 5,
      "outputs": []
    },
    {
      "cell_type": "code",
      "source": [
        "from PIL import Image"
      ],
      "metadata": {
        "id": "fBfAhnt7ZZIn"
      },
      "execution_count": 6,
      "outputs": []
    },
    {
      "cell_type": "code",
      "source": [
        "def resize_img_adv(img, dir):\n",
        "  imgNumpy = np.array(img)\n",
        "\n",
        "  imgOutput = tf.image.resize_with_pad(\n",
        "      imgNumpy,\n",
        "      150,\n",
        "      150\n",
        "      )\n",
        "  imgFinal = tf.keras.preprocessing.image.array_to_img(imgOutput)\n",
        "  imgFinal.save(dir)\n"
      ],
      "metadata": {
        "id": "QArVdyWDgjXK"
      },
      "execution_count": 44,
      "outputs": []
    },
    {
      "cell_type": "code",
      "source": [
        "folder_name = 'tahupetis'\n",
        "data_dir = pathlib.Path(folder_name)\n",
        "nasi_gorengs = list(data_dir.glob('*.png'))\n",
        "# str(nasi_gorengs[0])\n",
        "for img_dir in nasi_gorengs:\n",
        "  name = str(img_dir)\n",
        "  print(name)\n",
        "  resize_img_adv(Image.open(str(img_dir)), name)"
      ],
      "metadata": {
        "id": "oGSZ9sLAqDXE"
      },
      "execution_count": null,
      "outputs": []
    },
    {
      "cell_type": "code",
      "source": [
        "ls /content/drive/MyDrive/indo_food_datasets/jadi/newdataset/train/bakso | wc -l"
      ],
      "metadata": {
        "colab": {
          "base_uri": "https://localhost:8080/"
        },
        "id": "L55d2Ris0c5j",
        "outputId": "751f2955-3a02-4d11-9664-a1abf1627ff3"
      },
      "execution_count": 92,
      "outputs": [
        {
          "output_type": "stream",
          "name": "stdout",
          "text": [
            "416\n"
          ]
        }
      ]
    },
    {
      "cell_type": "code",
      "source": [
        "food_list = ['pastel',\n",
        " 'nasi-goreng',\n",
        " 'klepon',\n",
        " 'tahu-petis',\n",
        " 'bakso',\n",
        " 'tumpeng',\n",
        " 'sate',\n",
        " 'nastar',\n",
        " 'onde-onde',\n",
        " 'rendang']\n",
        "\n",
        "train_dataset_dir = \"/content/drive/MyDrive/indo_food_datasets/jadi/newdataset/train\"\n",
        "test_dataset_dir = \"/content/drive/MyDrive/indo_food_datasets/jadi/newdataset/test\"\n",
        "# raw_img_dir = \"/content/raw\"\n",
        "for food in food_list:\n",
        "  train_img_list = []\n",
        "  test_img_list = []\n",
        "  train_dataset_img = os.path.join(train_dataset_dir,food)\n",
        "  test_dataset_img = os.path.join(test_dataset_dir,food)\n",
        "  for path in os.listdir(train_dataset_img):\n",
        "    if os.path.isfile(os.path.join(train_dataset_img, path)):\n",
        "      # train_img_list.append(path)\n",
        "      size = Image.open(os.path.join(train_dataset_img, path)).size\n",
        "      if size[0] != 150 or size[1] != 150:\n",
        "        print('salah pada ', os.path.join(train_dataset_img, path))\n",
        "        print(size)\n",
        "\n",
        "  for path in os.listdir(test_dataset_img):\n",
        "    if os.path.isfile(os.path.join(test_dataset_img, path)):\n",
        "      # test_img_list.append(path)\n",
        "      size = Image.open(os.path.join(test_dataset_img, path)).size\n",
        "      if size[0] != 150 or size[1] != 150:\n",
        "        print('salah pada ', os.path.join(test_dataset_img, path))\n",
        "        print(size)\n",
        "\n",
        "  # print(test_img_list)\n",
        "  # raw_img = os.path.join(raw_img_dir,food)\n",
        "  # for path in os.listdir(raw_img):\n",
        "  #   if os.path.isfile(os.path.join(raw_img, path)):\n",
        "  #     food_img = Image.open(os.path.join(raw_img, path))\n",
        "  #     food_img.show()\n",
        "  #     if path in test_img_list:\n",
        "  #       #food_img.resize((150,150)).save(os.path.join(\"/content/food-dataset-500-v2/test\",food,path))\n",
        "  #       #resize_img_adv(food_img, os.path.join(\"/content/food-dataset-500-v2/test\",food,path))\n",
        "  #       #crop_img(food_img, os.path.join(\"/content/food-dataset-500-v2/test\",food,path))\n",
        "  #       crop_resize(food_img, (150,150), 1, os.path.join(\"/content/food-dataset-500-v2/test\",food,path))\n",
        "\n",
        "  #     if path in train_img_list:\n",
        "  #       #resize_img_adv(food_img, os.path.join(\"/content/food-dataset-500-v2/train\",food,path))\n",
        "  #       crop_resize(food_img, (150,150), 1, os.path.join(\"/content/food-dataset-500-v2/train\",food,path))\n",
        "  #       #food_img.resize((150,150)).save(os.path.join(\"/content/food-dataset-500-v2/train\",food,path))\n",
        "        "
      ],
      "metadata": {
        "id": "hDYKLX5VSIK8"
      },
      "execution_count": 93,
      "outputs": []
    },
    {
      "cell_type": "code",
      "source": [
        "def crop_resize(image, size, ratio,dir):\n",
        "    # crop to ratio, center\n",
        "    w, h = image.size\n",
        "    if w > ratio * h: # width is larger then necessary\n",
        "        x, y = (w - ratio * h) // 2, 0\n",
        "    else: # ratio*height >= width (height is larger)\n",
        "        x, y = 0, (h - w / ratio) // 2\n",
        "    image = image.crop((x, y, w - x, h - y))\n",
        "\n",
        "    # resize\n",
        "    if image.size > size: # don't stretch smaller images\n",
        "        image.thumbnail(size, Image.ANTIALIAS)\n",
        "    image.save(dir)"
      ],
      "metadata": {
        "id": "8qcolcfELA-J"
      },
      "execution_count": null,
      "outputs": []
    },
    {
      "cell_type": "code",
      "source": [
        "rm -rf /content/newdataset/"
      ],
      "metadata": {
        "id": "lBW2JUk-2qAt"
      },
      "execution_count": 83,
      "outputs": []
    },
    {
      "cell_type": "code",
      "source": [
        "!zip -r hasil.zip hasil"
      ],
      "metadata": {
        "id": "hMRhXL2Stsm7"
      },
      "execution_count": null,
      "outputs": []
    },
    {
      "cell_type": "code",
      "source": [
        "cp -R /content/drive/MyDrive/indo_food_datasets/raw/raw/ ./raw/"
      ],
      "metadata": {
        "id": "uRr0q2CnupXn"
      },
      "execution_count": 18,
      "outputs": []
    },
    {
      "cell_type": "code",
      "source": [
        "cp hasil.zip drive/MyDrive/indo_food_datasets/jadi/"
      ],
      "metadata": {
        "id": "szBCHPL96aff"
      },
      "execution_count": null,
      "outputs": []
    },
    {
      "cell_type": "code",
      "source": [
        "cp -R /content/newdataset/train /content/drive/MyDrive/indo_food_datasets/jadi/newdataset/"
      ],
      "metadata": {
        "id": "OiLGH57yp83g"
      },
      "execution_count": 88,
      "outputs": []
    },
    {
      "cell_type": "code",
      "source": [
        "cp -R /content/drive/MyDrive/indo_food_datasets/jadi/food-dataset-500-v2-kosong /content/"
      ],
      "metadata": {
        "id": "8OEHKNqrvqk4"
      },
      "execution_count": 85,
      "outputs": []
    },
    {
      "cell_type": "code",
      "source": [
        "list_food = [name for name in os.listdir(\"/content/raw\") if os.path.isdir(\"/content/raw/\"+name)]\n"
      ],
      "metadata": {
        "id": "XOYUYiUewQcy",
        "outputId": "f8168f43-53b9-469c-9b7d-ebd20826adf0",
        "colab": {
          "base_uri": "https://localhost:8080/"
        }
      },
      "execution_count": null,
      "outputs": [
        {
          "output_type": "execute_result",
          "data": {
            "text/plain": [
              "['pastel',\n",
              " 'nasi-goreng',\n",
              " 'klepon',\n",
              " '.ipynb_checkpoints',\n",
              " 'tahupetis',\n",
              " 'bakso',\n",
              " 'tumpeng',\n",
              " 'sate',\n",
              " 'nastar',\n",
              " 'onde-onde',\n",
              " 'rendang']"
            ]
          },
          "metadata": {},
          "execution_count": 35
        }
      ]
    },
    {
      "cell_type": "code",
      "source": [
        "def crop_img(im, dir):\n",
        "  new_width = 150\n",
        "  new_height = 150\n",
        "  width, height = im.size   # Get dimensions\n",
        "  left = (width - new_width)/2\n",
        "  top = (height - new_height)/2\n",
        "  right = (width + new_width)/2\n",
        "  bottom = (height + new_height)/2\n",
        "\n",
        "  # Crop the center of the image\n",
        "  im = im.crop((left, top, right, bottom))\n",
        "  im.save(dir)"
      ],
      "metadata": {
        "id": "3ivZ5iYeHLsc"
      },
      "execution_count": null,
      "outputs": []
    },
    {
      "cell_type": "code",
      "source": [
        "pip install python-resize-image"
      ],
      "metadata": {
        "id": "TiNroxB2YFTp",
        "outputId": "27483d92-1377-4443-ff9c-d99b65eb019e",
        "colab": {
          "base_uri": "https://localhost:8080/"
        }
      },
      "execution_count": 13,
      "outputs": [
        {
          "output_type": "stream",
          "name": "stdout",
          "text": [
            "Looking in indexes: https://pypi.org/simple, https://us-python.pkg.dev/colab-wheels/public/simple/\n",
            "Collecting python-resize-image\n",
            "  Downloading python_resize_image-1.1.20-py2.py3-none-any.whl (8.4 kB)\n",
            "Requirement already satisfied: Pillow>=5.1.0 in /usr/local/lib/python3.7/dist-packages (from python-resize-image) (7.1.2)\n",
            "Requirement already satisfied: requests>=2.19.1 in /usr/local/lib/python3.7/dist-packages (from python-resize-image) (2.23.0)\n",
            "Requirement already satisfied: chardet<4,>=3.0.2 in /usr/local/lib/python3.7/dist-packages (from requests>=2.19.1->python-resize-image) (3.0.4)\n",
            "Requirement already satisfied: urllib3!=1.25.0,!=1.25.1,<1.26,>=1.21.1 in /usr/local/lib/python3.7/dist-packages (from requests>=2.19.1->python-resize-image) (1.24.3)\n",
            "Requirement already satisfied: idna<3,>=2.5 in /usr/local/lib/python3.7/dist-packages (from requests>=2.19.1->python-resize-image) (2.10)\n",
            "Requirement already satisfied: certifi>=2017.4.17 in /usr/local/lib/python3.7/dist-packages (from requests>=2.19.1->python-resize-image) (2022.5.18.1)\n",
            "Installing collected packages: python-resize-image\n",
            "Successfully installed python-resize-image-1.1.20\n"
          ]
        }
      ]
    },
    {
      "cell_type": "code",
      "source": [
        "from PIL import Image\n",
        "from resizeimage import resizeimage\n",
        "\n",
        "food_list = ['pastel',\n",
        " 'nasi-goreng',\n",
        " 'klepon',\n",
        " 'tahu-petis',\n",
        " 'bakso',\n",
        " 'tumpeng',\n",
        " 'sate',\n",
        " 'nastar',\n",
        " 'onde-onde',\n",
        " 'rendang']\n",
        "\n",
        "train_dataset_dir = \"/content/food-dataset-500/train\"\n",
        "test_dataset_dir = \"/content/food-dataset-500/test\"\n",
        "raw_img_dir = \"/content/raw\"\n",
        "for food in food_list:\n",
        "  train_img_list = []\n",
        "  test_img_list = []\n",
        "  train_dataset_img = os.path.join(train_dataset_dir,food)\n",
        "  test_dataset_img = os.path.join(test_dataset_dir,food)\n",
        "  for path in os.listdir(train_dataset_img):\n",
        "    if os.path.isfile(os.path.join(train_dataset_img, path)):\n",
        "      train_img_list.append(path)\n",
        "\n",
        "  for path in os.listdir(test_dataset_img):\n",
        "    if os.path.isfile(os.path.join(test_dataset_img, path)):\n",
        "      test_img_list.append(path)\n",
        "  raw_img = os.path.join(raw_img_dir,\"kamera\")\n",
        "  for path in os.listdir(raw_img):\n",
        "    if os.path.isfile(os.path.join(raw_img, path)):\n",
        "      food_img = Image.open(os.path.join(raw_img, path))\n",
        "      food_img.show()\n",
        "      if path in test_img_list:\n",
        "        if food_img.size<(150,150):\n",
        "          print(os.path.join(raw_img, path))\n",
        "          resize_img_adv(food_img, os.path.join(\"/content/newdataset/test\",food,path))\n",
        "          # food_img.thumbnail((150,150))\n",
        "          # food_img.save(os.path.join(\"/content/newdataset/test\",food,path))\n",
        "        else:\n",
        "          cover = resizeimage.resize_cover(food_img, [150, 150])\n",
        "          cover.save(os.path.join(\"/content/newdataset/test\",food,path))\n",
        "\n",
        "      if path in train_img_list:\n",
        "        if food_img.size<(150,150):\n",
        "          print(os.path.join(raw_img, path))\n",
        "          resize_img_adv(food_img, os.path.join(\"/content/newdataset/train\",food,path))\n",
        "          # food_img.thumbnail((150,150))\n",
        "          # food_img.save(os.path.join(\"/content/newdataset/test\",food,path))\n",
        "        else:\n",
        "          cover = resizeimage.resize_cover(food_img, [150, 150])\n",
        "          cover.save(os.path.join(\"/content/newdataset/train\",food,path))\n",
        "        \n",
        "        \n"
      ],
      "metadata": {
        "id": "EE8157gYWApD"
      },
      "execution_count": 86,
      "outputs": []
    },
    {
      "cell_type": "code",
      "source": [
        "food_list = ['pastel',\n",
        " 'nasi-goreng',\n",
        " 'klepon',\n",
        " 'tahu-petis',\n",
        " 'bakso',\n",
        " 'tumpeng',\n",
        " 'sate',\n",
        " 'nastar',\n",
        " 'onde-onde',\n",
        " 'rendang']\n",
        "\n",
        "train_dataset_dir = \"/content/food-dataset-500/train\"\n",
        "test_dataset_dir = \"/content/food-dataset-500/test\"\n",
        "raw_img_dir = \"/content/raw\"\n",
        "for food in food_list:\n",
        "  train_img_list = []\n",
        "  test_img_list = []\n",
        "  train_dataset_img = os.path.join(train_dataset_dir,food)\n",
        "  test_dataset_img = os.path.join(test_dataset_dir,food)\n",
        "  for path in os.listdir(train_dataset_img):\n",
        "    if os.path.isfile(os.path.join(train_dataset_img, path)):\n",
        "      train_img_list.append(path)\n",
        "\n",
        "\n",
        "  for path in os.listdir(test_dataset_img):\n",
        "    if os.path.isfile(os.path.join(test_dataset_img, path)):\n",
        "      test_img_list.append(path)\n",
        "  print(test_img_list)\n",
        "  raw_img = os.path.join(raw_img_dir,food)\n",
        "  for path in os.listdir(raw_img):\n",
        "    if os.path.isfile(os.path.join(raw_img, path)):\n",
        "      food_img = Image.open(os.path.join(raw_img, path))\n",
        "      food_img.show()\n",
        "      if path in test_img_list:\n",
        "        #food_img.resize((150,150)).save(os.path.join(\"/content/food-dataset-500-v2/test\",food,path))\n",
        "        #resize_img_adv(food_img, os.path.join(\"/content/food-dataset-500-v2/test\",food,path))\n",
        "        #crop_img(food_img, os.path.join(\"/content/food-dataset-500-v2/test\",food,path))\n",
        "        crop_resize(food_img, (150,150), 1, os.path.join(\"/content/food-dataset-500-v2/test\",food,path))\n",
        "\n",
        "      if path in train_img_list:\n",
        "        #resize_img_adv(food_img, os.path.join(\"/content/food-dataset-500-v2/train\",food,path))\n",
        "        crop_resize(food_img, (150,150), 1, os.path.join(\"/content/food-dataset-500-v2/train\",food,path))\n",
        "        #food_img.resize((150,150)).save(os.path.join(\"/content/food-dataset-500-v2/train\",food,path))\n",
        "        "
      ],
      "metadata": {
        "id": "Fn704eBi1oGF"
      },
      "execution_count": null,
      "outputs": []
    },
    {
      "cell_type": "code",
      "source": [
        "cp -R /content/food-dataset-500-v2 /content/drive/MyDrive/indo_food_datasets/jadi"
      ],
      "metadata": {
        "id": "FXhMzBXcHkwP"
      },
      "execution_count": null,
      "outputs": []
    }
  ]
}